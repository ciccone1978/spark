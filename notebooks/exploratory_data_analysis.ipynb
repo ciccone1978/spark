{
 "cells": [
  {
   "cell_type": "code",
   "execution_count": null,
   "id": "7925b66b",
   "metadata": {},
   "outputs": [],
   "source": [
    "from pyspark.sql import SparkSession\n",
    "from pyspark.sql.functions import col, to_date, to_timestamp, min, max\n",
    "import matplotlib.pyplot as plt\n",
    "import pandas as pd\n",
    "import seaborn as sns"
   ]
  },
  {
   "cell_type": "code",
   "execution_count": 3,
   "id": "e42c524c",
   "metadata": {},
   "outputs": [
    {
     "name": "stdout",
     "output_type": "stream",
     "text": [
      "25/06/20 14:18:37 WARN NativeCodeLoader: Unable to load native-hadoop library for your platform... using builtin-java classes where applicable\n"
     ]
    }
   ],
   "source": [
    "spark = SparkSession.builder \\\n",
    "    .appName(\"NYCTaxiAnalysis\") \\\n",
    "    .master(\"local[*]\") \\\n",
    "    .config(\"spark.executor.memory\", \"6g\") \\\n",
    "    .config(\"spark.driver.memory\", \"10g\") \\\n",
    "    .config(\"spark.sql.shuffle.partitions\", \"8\") \\\n",
    "    .getOrCreate()"
   ]
  },
  {
   "cell_type": "code",
   "execution_count": 4,
   "id": "4f82fdda",
   "metadata": {},
   "outputs": [
    {
     "name": "stderr",
     "output_type": "stream",
     "text": [
      "                                                                                \r"
     ]
    }
   ],
   "source": [
    "df = spark.read.parquet(\"../data/processed/cleaned_yellow_taxi.parquet\")"
   ]
  },
  {
   "cell_type": "code",
   "execution_count": 5,
   "metadata": {},
   "outputs": [
    {
     "name": "stderr",
     "output_type": "stream",
     "text": [
      "                                                                                \r"
     ]
    },
    {
     "data": {
      "text/plain": [
       "35986473"
      ]
     },
     "execution_count": 5,
     "metadata": {},
     "output_type": "execute_result"
    }
   ],
   "source": [
    "df.cache().count()"
   ]
  },
  {
   "cell_type": "code",
   "execution_count": 6,
   "id": "0fbdff2c",
   "metadata": {},
   "outputs": [
    {
     "name": "stdout",
     "output_type": "stream",
     "text": [
      "+-------------------+-------------------+-----------+------------------+------------+---------------+-------------+------------------+------------------+-----------+------------+-----------+------------+\n",
      "|pickup_datetime    |dropoff_datetime   |pickup_hour|pickup_day_of_week|pickup_month|passenger_count|trip_distance|trip_duration_min |avg_speed_mph     |fare_amount|total_amount|pickup_zone|dropoff_zone|\n",
      "+-------------------+-------------------+-----------+------------------+------------+---------------+-------------+------------------+------------------+-----------+------------+-----------+------------+\n",
      "|2024-10-01 00:30:44|2024-10-01 00:48:26|0          |3                 |10          |1              |3.0          |17.7              |10.16949152542373 |18.4       |24.9        |162        |246         |\n",
      "|2024-10-01 00:12:20|2024-10-01 00:25:25|0          |3                 |10          |1              |2.2          |13.083333333333334|10.089171974522294|14.2       |23.0        |48         |236         |\n",
      "|2024-10-01 00:04:46|2024-10-01 00:13:52|0          |3                 |10          |1              |2.7          |9.1               |17.802197802197803|13.5       |22.2        |142        |24          |\n",
      "|2024-10-01 00:12:10|2024-10-01 00:23:01|0          |3                 |10          |1              |3.1          |10.85             |17.142857142857146|14.2       |21.2        |233        |75          |\n",
      "|2024-10-01 00:31:20|2024-10-01 00:36:00|0          |3                 |10          |2              |0.97         |4.666666666666667 |12.471428571428572|7.2        |14.64       |137        |137         |\n",
      "+-------------------+-------------------+-----------+------------------+------------+---------------+-------------+------------------+------------------+-----------+------------+-----------+------------+\n",
      "only showing top 5 rows\n",
      "\n"
     ]
    }
   ],
   "source": [
    "df.show(5, truncate=False)"
   ]
  },
  {
   "cell_type": "code",
   "execution_count": 7,
   "id": "d78fddae",
   "metadata": {},
   "outputs": [
    {
     "data": {
      "text/plain": [
       "35986473"
      ]
     },
     "execution_count": 7,
     "metadata": {},
     "output_type": "execute_result"
    }
   ],
   "source": [
    "df.count()"
   ]
  },
  {
   "cell_type": "code",
   "execution_count": 9,
   "id": "b6faa25e",
   "metadata": {},
   "outputs": [
    {
     "name": "stdout",
     "output_type": "stream",
     "text": [
      "root\n",
      " |-- pickup_datetime: timestamp (nullable = true)\n",
      " |-- dropoff_datetime: timestamp (nullable = true)\n",
      " |-- pickup_hour: integer (nullable = true)\n",
      " |-- pickup_day_of_week: integer (nullable = true)\n",
      " |-- pickup_month: integer (nullable = true)\n",
      " |-- passenger_count: long (nullable = true)\n",
      " |-- trip_distance: double (nullable = true)\n",
      " |-- trip_duration_min: double (nullable = true)\n",
      " |-- avg_speed_mph: double (nullable = true)\n",
      " |-- fare_amount: double (nullable = true)\n",
      " |-- total_amount: double (nullable = true)\n",
      " |-- pickup_zone: integer (nullable = true)\n",
      " |-- dropoff_zone: integer (nullable = true)\n",
      "\n",
      "+-------------------+-------------------+-------------+-----------+------------+\n",
      "|    pickup_datetime|   dropoff_datetime|trip_distance|fare_amount|total_amount|\n",
      "+-------------------+-------------------+-------------+-----------+------------+\n",
      "|2024-10-01 00:30:44|2024-10-01 00:48:26|          3.0|       18.4|        24.9|\n",
      "|2024-10-01 00:12:20|2024-10-01 00:25:25|          2.2|       14.2|        23.0|\n",
      "|2024-10-01 00:04:46|2024-10-01 00:13:52|          2.7|       13.5|        22.2|\n",
      "|2024-10-01 00:12:10|2024-10-01 00:23:01|          3.1|       14.2|        21.2|\n",
      "|2024-10-01 00:31:20|2024-10-01 00:36:00|         0.97|        7.2|       14.64|\n",
      "+-------------------+-------------------+-------------+-----------+------------+\n",
      "only showing top 5 rows\n",
      "\n"
     ]
    }
   ],
   "source": [
    "df.printSchema()\n",
    "df.select(\"pickup_datetime\", \"dropoff_datetime\", \"trip_distance\", \"fare_amount\", \"total_amount\").show(5)"
   ]
  },
  {
   "cell_type": "code",
   "execution_count": 12,
   "id": "9a076f19",
   "metadata": {},
   "outputs": [
    {
     "name": "stderr",
     "output_type": "stream",
     "text": [
      "                                                                                \r"
     ]
    },
    {
     "name": "stdout",
     "output_type": "stream",
     "text": [
      "+-------+-------------+\n",
      "|summary|trip_distance|\n",
      "+-------+-------------+\n",
      "|    min|         0.01|\n",
      "|    25%|         1.02|\n",
      "|    50%|         1.72|\n",
      "|    75%|          3.3|\n",
      "|    max|    160244.91|\n",
      "+-------+-------------+\n",
      "\n"
     ]
    },
    {
     "name": "stderr",
     "output_type": "stream",
     "text": [
      "                                                                                \r"
     ]
    },
    {
     "name": "stdout",
     "output_type": "stream",
     "text": [
      "+-------+--------------------+\n",
      "|summary|   trip_duration_min|\n",
      "+-------+--------------------+\n",
      "|    min|0.016666666666666666|\n",
      "|    25%|                7.75|\n",
      "|    50%|                12.8|\n",
      "|    75%|               21.05|\n",
      "|    max|  179.98333333333332|\n",
      "+-------+--------------------+\n",
      "\n"
     ]
    },
    {
     "name": "stderr",
     "output_type": "stream",
     "text": [
      "                                                                                \r"
     ]
    },
    {
     "name": "stdout",
     "output_type": "stream",
     "text": [
      "+-------+--------------------+\n",
      "|summary|       avg_speed_mph|\n",
      "+-------+--------------------+\n",
      "|    min|0.003380599117288009|\n",
      "|    25%|  6.7924528301886795|\n",
      "|    50%|    9.20627261761158|\n",
      "|    75%|  12.736318407960201|\n",
      "|    max|   807742.4299065421|\n",
      "+-------+--------------------+\n",
      "\n"
     ]
    },
    {
     "name": "stderr",
     "output_type": "stream",
     "text": [
      "                                                                                \r"
     ]
    },
    {
     "name": "stdout",
     "output_type": "stream",
     "text": [
      "+-------+-----------+\n",
      "|summary|fare_amount|\n",
      "+-------+-----------+\n",
      "|    min|       0.01|\n",
      "|    25%|        9.3|\n",
      "|    50%|       13.5|\n",
      "|    75%|       21.9|\n",
      "|    max|  335544.44|\n",
      "+-------+-----------+\n",
      "\n"
     ]
    },
    {
     "name": "stderr",
     "output_type": "stream",
     "text": [
      "[Stage 26:===========================================>              (6 + 2) / 8]\r"
     ]
    },
    {
     "name": "stdout",
     "output_type": "stream",
     "text": [
      "+-------+------------+\n",
      "|summary|total_amount|\n",
      "+-------+------------+\n",
      "|    min|        0.01|\n",
      "|    25%|       15.96|\n",
      "|    50%|        21.0|\n",
      "|    75%|       30.72|\n",
      "|    max|   335550.94|\n",
      "+-------+------------+\n",
      "\n"
     ]
    },
    {
     "name": "stderr",
     "output_type": "stream",
     "text": [
      "                                                                                \r"
     ]
    }
   ],
   "source": [
    "numeric_cols = [\"trip_distance\", \"trip_duration_min\", \"avg_speed_mph\", \"fare_amount\", \"total_amount\"]\n",
    "for col_name in numeric_cols:\n",
    "    df.select(col_name).summary(\"min\", \"25%\", \"50%\", \"75%\", \"max\").show()"
   ]
  },
  {
   "cell_type": "code",
   "execution_count": 21,
   "id": "5bcbaa8d",
   "metadata": {},
   "outputs": [
    {
     "name": "stderr",
     "output_type": "stream",
     "text": [
      "                                                                                \r"
     ]
    },
    {
     "data": {
      "image/png": "[encoded data removed]",
      "text/plain": [
       "<Figure size 1000x600 with 1 Axes>"
      ]
     },
     "metadata": {},
     "output_type": "display_data"
    }
   ],
   "source": [
    "hourly_trips = df.groupBy(\"pickup_hour\").count().orderBy(\"pickup_hour\").toPandas()\n",
    "\n",
    "plt.figure(figsize=(10, 6))\n",
    "sns.barplot(x=\"pickup_hour\", y=\"count\", data=hourly_trips, palette=\"Blues_d\", hue=\"pickup_hour\", legend=False)\n",
    "plt.title(\"Numero di corse per fascia oraria\")\n",
    "plt.xlabel(\"Fascia oraria\")\n",
    "plt.ylabel(\"Totale corse\")\n",
    "plt.show()"
   ]
  },
  {
   "cell_type": "code",
   "execution_count": 19,
   "id": "596a7cb2",
   "metadata": {},
   "outputs": [
    {
     "name": "stderr",
     "output_type": "stream",
     "text": [
      "                                                                                \r"
     ]
    },
    {
     "data": {
      "image/png": "[encoded data removed]",
      "text/plain": [
       "<Figure size 1000x600 with 1 Axes>"
      ]
     },
     "metadata": {},
     "output_type": "display_data"
    }
   ],
   "source": [
    "day_of_week = df.groupBy(\"pickup_day_of_week\").count().orderBy(\"pickup_day_of_week\").toPandas()\n",
    "\n",
    "plt.figure(figsize=(10, 6))\n",
    "sns.barplot(x=\"pickup_day_of_week\", y=\"count\", data=day_of_week, palette=\"coolwarm\",  hue=\"pickup_day_of_week\", legend=False)\n",
    "plt.title(\"Totale corse per giorno della settimana (1=Domenica)\")\n",
    "plt.xlabel(\"Giorno della settimana\")\n",
    "plt.ylabel(\"Totale corse\")\n",
    "plt.show()"
   ]
  },
  {
   "cell_type": "code",
   "execution_count": null,
   "id": "0d60135b",
   "metadata": {},
   "outputs": [],
   "source": [
    "distance_distribution = df.filter(col(\"trip_distance\") < 20).select(\"trip_distance\").toPandas()\n",
    "\n",
    "plt.figure(figsize=(10, 6))\n",
    "sns.histplot(distance_distribution[\"trip_distance\"], bins=50, kde=True)\n",
    "plt.title(\"Distribuzione della distanza percorsa (limitata a 20 miglia)\")\n",
    "plt.xlabel(\"Distanza percorsa (miglia)\")\n",
    "plt.ylabel(\"Frequenza\")\n",
    "plt.show()"
   ]
  }
 ],
 "metadata": {
  "kernelspec": {
   "display_name": "pyspark",
   "language": "python",
   "name": "pyspark"
  },
  "language_info": {
   "codemirror_mode": {
    "name": "ipython",
    "version": 3
   },
   "file_extension": ".py",
   "mimetype": "text/x-python",
   "name": "python",
   "nbconvert_exporter": "python",
   "pygments_lexer": "ipython3",
   "version": "3.9.2"
  }
 },
 "nbformat": 4,
 "nbformat_minor": 5
}
